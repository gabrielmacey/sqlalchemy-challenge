{
 "cells": [
  {
   "cell_type": "code",
   "execution_count": 1,
   "metadata": {},
   "outputs": [],
   "source": [
    "# Ignore SQLITE warnings related to Decimal numbers in the Chinook database\n",
    "import warnings\n",
    "warnings.filterwarnings('ignore')\n",
    "\n",
    "# Import Dependencies\n",
    "import sqlalchemy\n",
    "from sqlalchemy.ext.automap import automap_base\n",
    "from sqlalchemy.orm import Session\n",
    "from sqlalchemy import create_engine\n",
    "from sqlalchemy import func\n",
    "\n",
    "import datetime as dt\n",
    "\n",
    "#Import Flask\n",
    "from flask import Flask\n",
    "\n",
    "# Create an engine for the chinook.sqlite database\n",
    "engine = create_engine(\"sqlite:///Resources/hawaii.sqlite\")\n",
    "\n",
    "# Reflect Database into ORM classes\n",
    "Base = automap_base()\n",
    "Base.prepare(engine, reflect=True)\n",
    "\n",
    "# Save a reference to the invoices table\n",
    "Measurement = Base.classes.measurement\n",
    "Station = Base.classes.station"
   ]
  },
  {
   "cell_type": "code",
   "execution_count": 2,
   "metadata": {},
   "outputs": [],
   "source": [
    "app = Flask(__name__)"
   ]
  },
  {
   "cell_type": "code",
   "execution_count": 3,
   "metadata": {},
   "outputs": [],
   "source": [
    "@app.route(\"/\")\n",
    "def home():\n",
    "    return(\n",
    "    f\"/api/v1.0/precipitation\"\n",
    "    f\"/api/v1.0/stations\"\n",
    "    f\"/api/v1.0/tobs\"\n",
    "    f\"/api/v1.0/<start>\"\n",
    "    f\"/api/v1.0/<start>/<end>\"\n",
    "    )"
   ]
  },
  {
   "cell_type": "code",
   "execution_count": 4,
   "metadata": {},
   "outputs": [],
   "source": [
    "@app.route(\"/api/v1.0/precipitation\")\n",
    "def precipitation():\n",
    "    session = Session(engine)\n",
    "    closed_date = session.query(Measurement.date).order_by((Measurement.date).desc()).first()\n",
    "    one_year_ago = dt.date(2017, 8, 23) - dt.timedelta(days = 365)\n",
    "    precipitation = session.query(Measurement.date, Measurement.prcp).filter(Measurement.date >= one_year_ago).all()\n",
    "    session.close()\n",
    "    precipitation = list(np.ravel(precipitation))\n",
    "    return jsonify(\n",
    "    precipitation\n",
    "    )"
   ]
  },
  {
   "cell_type": "code",
   "execution_count": 5,
   "metadata": {},
   "outputs": [],
   "source": [
    "@app.route(\"/api/v1.0/stations\")\n",
    "def stations():\n",
    "    session = Session(engine)\n",
    "    number_of_stations = session.query(func.count(Station.id)).all()\n",
    "    active_station = (session.query(Measurement.station, func.count(Measurement.station))\n",
    "            .group_by(Measurement.station)\n",
    "            .order_by(func.count(Measurement.station).desc())\n",
    "            .all())\n",
    "    session.close()\n",
    "    active_station = list(np.ravel(active_station))\n",
    "    return jsonify(\n",
    "    active_station\n",
    "    )"
   ]
  },
  {
   "cell_type": "code",
   "execution_count": 6,
   "metadata": {},
   "outputs": [],
   "source": [
    "@app.route(\"/api/v1.0/tobs\")\n",
    "def tobs():\n",
    "    session = Session(engine)\n",
    "    low_temp = session.query(func.min(Measurement.tobs)).filter(Measurement.station == \"USC00519281\").all()\n",
    "    high_temp = session.query(func.max(Measurement.tobs)).filter(Measurement.station == \"USC00519281\").all()\n",
    "    avg_temp = session.query(func.avg(Measurement.tobs)).filter(Measurement.station == \"USC00519281\").all()\n",
    "    session.close()\n",
    "    low_temp = list(np.ravel(low_temp))\n",
    "    high_temp = list(np.ravel(high_temp))\n",
    "    avg_temp = list(np.ravel(avg_temp))\n",
    "    return jsonify(\n",
    "    low_temp,\n",
    "    high_temp,\n",
    "    avg_temp\n",
    "    )"
   ]
  },
  {
   "cell_type": "code",
   "execution_count": 7,
   "metadata": {},
   "outputs": [],
   "source": [
    "@app.route(\"/api/v1.0/<start>\")\n",
    "@app.route(\"/api/v1.0/<start>/<end>\")\n",
    "def begin_n_end(start,end = None):\n",
    "    session = Session(engine)\n",
    "    Date = start\n",
    "    sel = [func.min(Measurement.tobs), func.avg(Measurement.tobs), func.max(Measurement.tobs)]\n",
    "    if not end:\n",
    "        start_no_end=session.query(*sel).filter(func.strftime(\"%m-%d\", Measurement.date) == Date).all()\n",
    "        start_no_end=list(np.ravel(start_no_end))\n",
    "        return jsonify(start_no_end)\n",
    "    start_yes_end=session.query(func.min(Measurement.tobs), func.avg(Measurement.tobs), func.max(Measurement.tobs)).filter(Measurement.date >= start).filter(Measurement.date <= end).all()\n",
    "    session.close()\n",
    "    start_yes_end=list(np.ravel(start_yes_end))\n",
    "    return jsonify(start_yes_end)"
   ]
  },
  {
   "cell_type": "code",
   "execution_count": null,
   "metadata": {},
   "outputs": [],
   "source": []
  }
 ],
 "metadata": {
  "kernelspec": {
   "display_name": "Python 3",
   "language": "python",
   "name": "python3"
  },
  "language_info": {
   "codemirror_mode": {
    "name": "ipython",
    "version": 3
   },
   "file_extension": ".py",
   "mimetype": "text/x-python",
   "name": "python",
   "nbconvert_exporter": "python",
   "pygments_lexer": "ipython3",
   "version": "3.6.5"
  }
 },
 "nbformat": 4,
 "nbformat_minor": 2
}
